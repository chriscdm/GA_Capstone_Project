{
 "cells": [
  {
   "cell_type": "code",
   "execution_count": 11,
   "metadata": {
    "collapsed": true
   },
   "outputs": [],
   "source": [
    "import pandas as pd\n",
    "import numpy as np\n",
    "import json\n",
    "from pprint import pprint\n",
    "from os import listdir\n",
    "from os.path import isfile, join"
   ]
  },
  {
   "cell_type": "code",
   "execution_count": 192,
   "metadata": {
    "collapsed": true
   },
   "outputs": [],
   "source": [
    "path = '/Users/christophermarker/Documents/DSI7/Data/Capstone/factbook.json'"
   ]
  },
  {
   "cell_type": "code",
   "execution_count": 193,
   "metadata": {
    "collapsed": true
   },
   "outputs": [],
   "source": [
    "dir_list = ['east-n-southeast-asia', 'europe', 'middle-east', \n",
    "            'north-america', 'africa', 'antarctica', 'south-america', 'australia-oceania', \n",
    "            'south-asia', 'central-america-n-caribbean', 'central-asia']"
   ]
  },
  {
   "cell_type": "code",
   "execution_count": 194,
   "metadata": {
    "collapsed": true
   },
   "outputs": [],
   "source": [
    "total_area = []\n",
    "land_area = []\n",
    "water_area = []\n",
    "lat_long = []\n",
    "land_boundaries = []\n",
    "coastline = []\n",
    "climate = []\n",
    "terrain = []\n",
    "mean_elevation = []\n",
    "elevation_extremes = []\n",
    "natural_resources = []\n",
    "agricultural_land_percent = []\n",
    "forest_percent = []\n",
    "other_land_percent = []\n",
    "irrigated_land = []\n",
    "natural_hazards = []\n",
    "environmental_issues = []\n",
    "population = []\n",
    "religions = []\n",
    "name = []\n",
    "government = []\n",
    "independence_date = []\n",
    "gdp = []\n",
    "gdp_growth = []\n",
    "gdp_agriculture_percent = []\n",
    "gdp_industry_percent = []\n",
    "gdp_services_percent = []\n",
    "agriculture_products = []\n",
    "industries = []\n",
    "percent_below_poverty = []\n",
    "exports_dollars = []\n",
    "exports_commodities = []\n",
    "export_partners = []\n",
    "imports_dollars = []\n",
    "imports_commodities = []\n",
    "import_partners = []"
   ]
  },
  {
   "cell_type": "code",
   "execution_count": 195,
   "metadata": {},
   "outputs": [],
   "source": [
    "for dir_ in dir_list:\n",
    "    mypath = path + '/' + dir_\n",
    "    files = [f for f in listdir(mypath) if isfile(join(mypath, f))]\n",
    "    for file in files:\n",
    "        full_path = mypath + '/' + file\n",
    "        try:\n",
    "            x = json.load(open(full_path))\n",
    "        except:\n",
    "            pass\n",
    "        try:\n",
    "            total_area.append(x['Geography']['Area']['total']['text'])\n",
    "        except:\n",
    "            total_area.append(np.nan)\n",
    "        try:\n",
    "            land_area.append(x['Geography']['Area']['land']['text'])\n",
    "        except:\n",
    "            land_area.append(np.nan)\n",
    "        try:\n",
    "            water_area.append(x['Geography']['Area']['water']['text'])\n",
    "        except:\n",
    "            water_area.append(np.nan)\n",
    "        try:\n",
    "            lat_long.append(x['Geography']['Geographic coordinates']['text'])\n",
    "        except:\n",
    "            lat_long.append(np.nan)\n",
    "        try:\n",
    "            land_boundaries.append(x['Geography']['Land boundaries']['total']['text'])\n",
    "        except:\n",
    "            try:\n",
    "                land_boundaries.append(x['Geography']['Land boundaries']['text'])\n",
    "            except:\n",
    "                land_boundaries.append(np.nan)\n",
    "        try:\n",
    "            coastline.append(x['Geography']['Coastline']['text'])\n",
    "        except:\n",
    "            coastline.append(np.nan)\n",
    "        try:\n",
    "            climate.append(x['Geography']['Climate']['text'])\n",
    "        except:\n",
    "            climate.append(np.nan)\n",
    "        try:\n",
    "            terrain.append(x['Geography']['Terrain']['text'])\n",
    "        except:\n",
    "            terrain.append(np.nan)\n",
    "        try:\n",
    "            mean_elevation.append(x['Geography']['Elevation']['mean elevation']['text'])\n",
    "        except:\n",
    "            mean_elevation.append(np.nan)\n",
    "        try:\n",
    "            elevation_extremes.append(x['Geography']['Elevation']['elevation extremes']['text'])\n",
    "        except:\n",
    "            elevation_extremes.append(np.nan)\n",
    "        try:\n",
    "            natural_resources.append(x['Geography']['Natural resources']['text'])\n",
    "        except:\n",
    "            natural_resources.append(np.nan)\n",
    "        try:\n",
    "            agricultural_land_percent.append(x['Geography']['Land use']['agricultural land']['text'])\n",
    "        except:\n",
    "            agricultural_land_percent.append(np.nan)\n",
    "        try:\n",
    "            forest_percent.append(x['Geography']['Land use']['forest']['text'])\n",
    "        except:\n",
    "            forest_percent.append(np.nan)\n",
    "        try:\n",
    "            other_land_percent.append(x['Geography']['Land use']['other']['text'])\n",
    "        except:\n",
    "            other_land_percent.append(np.nan)\n",
    "        try:\n",
    "            irrigated_land.append(x['Geography']['Irrigated land']['text'])\n",
    "        except:\n",
    "            irrigated_land.append(np.nan)\n",
    "        try:\n",
    "            natural_hazards.append(x['Geography']['Natural hazards']['text'])\n",
    "        except:\n",
    "            natural_hazards.append(np.nan)\n",
    "        try:\n",
    "            environmental_issues.append(x['Geography']['Environment - current issues']['text'])\n",
    "        except:\n",
    "            environmental_issues.append(np.nan)\n",
    "        population.append(x['People and Society']['Population']['text'])\n",
    "        try:\n",
    "            religions.append(x['People and Society']['Religions']['text'])\n",
    "        except:\n",
    "            religions.append(np.nan)\n",
    "        try:\n",
    "            name.append(x['Government']['Country name']['conventional short form']['text'])\n",
    "        except:\n",
    "            name.append(np.nan)\n",
    "        try:\n",
    "            government.append(x['Government']['Government type']['text'])\n",
    "        except:\n",
    "            government.append(np.nan)\n",
    "        try:\n",
    "            independence_date.append(x['Government']['Independence']['text'])\n",
    "        except:\n",
    "            independence_date.append(np.nan)\n",
    "        try:\n",
    "            gdp.append(x['Economy']['GDP (official exchange rate)']['text'])\n",
    "        except:\n",
    "            gdp.append(np.nan)\n",
    "        try:\n",
    "            gdp_growth.append(x['Economy']['GDP - real growth rate']['text'])\n",
    "        except:\n",
    "            gdp_growth.append(np.nan)\n",
    "        try:\n",
    "            gdp_agriculture_percent.append(x['Economy']['GDP - composition, by sector of origin']['agriculture']['text'])\n",
    "        except:\n",
    "            gdp_agriculture_percent.append(np.nan)\n",
    "        try:\n",
    "            gdp_industry_percent.append(x['Economy']['GDP - composition, by sector of origin']['industry']['text'])\n",
    "        except:\n",
    "            gdp_industry_percent.append(np.nan)\n",
    "        try:\n",
    "            gdp_services_percent.append(x['Economy']['GDP - composition, by sector of origin']['services']['text'])\n",
    "        except:\n",
    "            gdp_services_percent.append(np.nan)\n",
    "        try:\n",
    "            agriculture_products.append(x['Economy']['Agriculture - products']['text'])\n",
    "        except:\n",
    "            agriculture_products.append(np.nan)\n",
    "        try:\n",
    "            industries.append(x['Economy']['Industries']['text'])\n",
    "        except:\n",
    "            industries.append(np.nan)\n",
    "        try:\n",
    "            percent_below_poverty.append(x['Economy']['Population below poverty line']['text'])\n",
    "        except:\n",
    "            percent_below_poverty.append(np.nan)\n",
    "        try:\n",
    "            exports_dollars.append(x['Economy']['Exports']['text'])\n",
    "        except:\n",
    "            exports_dollars.append(np.nan)\n",
    "        try:\n",
    "            exports_commodities.append(x['Economy']['Exports - commodities']['text'])\n",
    "        except:\n",
    "            exports_commodities.append(np.nan)\n",
    "        try:\n",
    "            export_partners.append(x['Economy']['Exports - partners']['text'])\n",
    "        except:\n",
    "            export_partners.append(np.nan)\n",
    "        try:\n",
    "            imports_dollars.append(x['Economy']['Imports']['text'])\n",
    "        except:\n",
    "            imports_dollars.append(np.nan)\n",
    "        try:\n",
    "            imports_commodities.append(x['Economy']['Imports - commodities']['text'])\n",
    "        except:\n",
    "            imports_commodities.append(np.nan)\n",
    "        try:\n",
    "            import_partners.append(x['Economy']['Imports - partners']['text'])\n",
    "        except:\n",
    "            import_partners.append(np.nan)"
   ]
  },
  {
   "cell_type": "code",
   "execution_count": 294,
   "metadata": {
    "collapsed": true
   },
   "outputs": [],
   "source": [
    "world_facts = pd.DataFrame({'total_area':total_area, 'total_area':land_area, 'water_area':water_area, \n",
    "                           'lat_long':lat_long, 'land_boundaries':land_boundaries, 'coastline':coastline, \n",
    "                           'climate':climate, 'terrain':terrain, 'mean_elevation_meters':mean_elevation, \n",
    "                           'elevation_extremes':elevation_extremes, 'natural_resources':natural_resources, \n",
    "                           'agricultural_land_percent':agricultural_land_percent, 'forest_percent': forest_percent, \n",
    "                           'other_land_percent':other_land_percent, 'irrigated_land':irrigated_land, \n",
    "                           'natural_hazards':natural_hazards, 'environmental_issues':environmental_issues, \n",
    "                           'population':population, 'religions':religions, 'name':name, 'government':government, \n",
    "                           'independence_date':independence_date, 'gdp':gdp, 'gdp_growth':gdp_growth, \n",
    "                           'gdp_agriculture_percent':gdp_agriculture_percent, 'gdp_industry_percent':gdp_industry_percent, \n",
    "                           'gdp_services_percent':gdp_services_percent, 'agriculture_products':agriculture_products, \n",
    "                           'industries':industries, 'percent_below_poverty':percent_below_poverty, \n",
    "                           'exports_dollars':exports_dollars, 'exports_commodities':exports_commodities, \n",
    "                           'export_partners':export_partners, 'imports_dollars':imports_dollars, \n",
    "                           'imports_commodities':imports_commodities, 'import_partners':import_partners, })"
   ]
  },
  {
   "cell_type": "code",
   "execution_count": 295,
   "metadata": {},
   "outputs": [
    {
     "data": {
      "text/html": [
       "<div>\n",
       "<style scoped>\n",
       "    .dataframe tbody tr th:only-of-type {\n",
       "        vertical-align: middle;\n",
       "    }\n",
       "\n",
       "    .dataframe tbody tr th {\n",
       "        vertical-align: top;\n",
       "    }\n",
       "\n",
       "    .dataframe thead th {\n",
       "        text-align: right;\n",
       "    }\n",
       "</style>\n",
       "<table border=\"1\" class=\"dataframe\">\n",
       "  <thead>\n",
       "    <tr style=\"text-align: right;\">\n",
       "      <th></th>\n",
       "      <th>agricultural_land_percent</th>\n",
       "      <th>agriculture_products</th>\n",
       "      <th>climate</th>\n",
       "      <th>coastline</th>\n",
       "      <th>elevation_extremes</th>\n",
       "      <th>environmental_issues</th>\n",
       "      <th>export_partners</th>\n",
       "      <th>exports_commodities</th>\n",
       "      <th>exports_dollars</th>\n",
       "      <th>forest_percent</th>\n",
       "      <th>...</th>\n",
       "      <th>name</th>\n",
       "      <th>natural_hazards</th>\n",
       "      <th>natural_resources</th>\n",
       "      <th>other_land_percent</th>\n",
       "      <th>percent_below_poverty</th>\n",
       "      <th>population</th>\n",
       "      <th>religions</th>\n",
       "      <th>terrain</th>\n",
       "      <th>total_area</th>\n",
       "      <th>water_area</th>\n",
       "    </tr>\n",
       "  </thead>\n",
       "  <tbody>\n",
       "    <tr>\n",
       "      <th>0</th>\n",
       "      <td>0% ++ arable land 0%; permanent crops 0%; perm...</td>\n",
       "      <td>NaN</td>\n",
       "      <td>tropical</td>\n",
       "      <td>518 km</td>\n",
       "      <td>lowest point: South China Sea 0 m ++ highest p...</td>\n",
       "      <td>NA</td>\n",
       "      <td>NaN</td>\n",
       "      <td>NaN</td>\n",
       "      <td>NaN</td>\n",
       "      <td>0%</td>\n",
       "      <td>...</td>\n",
       "      <td>Paracel Islands</td>\n",
       "      <td>typhoons</td>\n",
       "      <td>none</td>\n",
       "      <td>100% (2011 est.)</td>\n",
       "      <td>NaN</td>\n",
       "      <td>no indigenous inhabitants</td>\n",
       "      <td>NaN</td>\n",
       "      <td>mostly low and flat</td>\n",
       "      <td>ca. 7.75 sq km</td>\n",
       "      <td>0 sq km</td>\n",
       "    </tr>\n",
       "    <tr>\n",
       "      <th>1</th>\n",
       "      <td>18.1% ++ arable land 15.3%; permanent crops 2....</td>\n",
       "      <td>rice, root crops, barley, vegetables, fruit; c...</td>\n",
       "      <td>temperate, with rainfall heavier in summer tha...</td>\n",
       "      <td>2,413 km</td>\n",
       "      <td>lowest point: Sea of Japan 0 m ++ highest poin...</td>\n",
       "      <td>air pollution in large cities; acid rain; wate...</td>\n",
       "      <td>China 26%, US 13.3%, Hong Kong 5.8%, Vietnam 5...</td>\n",
       "      <td>semiconductors, petrochemicals, automobile/aut...</td>\n",
       "      <td>$509 billion (2016 est.) ++ $548.8 billion (20...</td>\n",
       "      <td>63.9%</td>\n",
       "      <td>...</td>\n",
       "      <td>South Korea</td>\n",
       "      <td>occasional typhoons bring high winds and flood...</td>\n",
       "      <td>coal, tungsten, graphite, molybdenum, lead, hy...</td>\n",
       "      <td>18% (2011 est.)</td>\n",
       "      <td>14.6% (2013 est.)</td>\n",
       "      <td>50,924,172 (July 2016 est.)</td>\n",
       "      <td>Christian 31.6% (Protestant 24.0%, Catholic 7....</td>\n",
       "      <td>mostly hills and mountains; wide coastal plain...</td>\n",
       "      <td>96,920 sq km</td>\n",
       "      <td>2,800 sq km</td>\n",
       "    </tr>\n",
       "    <tr>\n",
       "      <th>2</th>\n",
       "      <td>10.6% ++ arable land 6.2%; permanent crops 0.7...</td>\n",
       "      <td>sweet potatoes, vegetables, corn, coffee, suga...</td>\n",
       "      <td>tropical monsoon; rainy season (May to Novembe...</td>\n",
       "      <td>0 km (landlocked)</td>\n",
       "      <td>lowest point: Mekong River 70 m ++ highest poi...</td>\n",
       "      <td>unexploded ordnance; deforestation; soil erosi...</td>\n",
       "      <td>Thailand 30.4%, China 27%, Vietnam 17.6% (2015)</td>\n",
       "      <td>wood products, coffee, electricity, tin, coppe...</td>\n",
       "      <td>$3.075 billion (2016 est.) ++ $2.928 billion (...</td>\n",
       "      <td>67.9%</td>\n",
       "      <td>...</td>\n",
       "      <td>Laos</td>\n",
       "      <td>floods, droughts</td>\n",
       "      <td>timber, hydropower, gypsum, tin, gold, gemstones</td>\n",
       "      <td>21.5% (2011 est.)</td>\n",
       "      <td>22% (2013 est.)</td>\n",
       "      <td>7,019,073 (July 2016 est.)</td>\n",
       "      <td>Buddhist 66.8%, Christian 1.5%, other 31%, uns...</td>\n",
       "      <td>mostly rugged mountains; some plains and plateaus</td>\n",
       "      <td>230,800 sq km</td>\n",
       "      <td>6,000 sq km</td>\n",
       "    </tr>\n",
       "    <tr>\n",
       "      <th>3</th>\n",
       "      <td>73% ++ arable land 0.4%; permanent crops 0%; p...</td>\n",
       "      <td>wheat, barley, vegetables, forage crops; sheep...</td>\n",
       "      <td>desert; continental (large daily and seasonal ...</td>\n",
       "      <td>0 km (landlocked)</td>\n",
       "      <td>lowest point: Hoh Nuur 560 m ++ highest point:...</td>\n",
       "      <td>limited natural freshwater resources in some a...</td>\n",
       "      <td>China 84%, Switzerland 9% (2015)</td>\n",
       "      <td>copper, apparel, livestock, animal products, c...</td>\n",
       "      <td>$4.319 billion (2016 est.) ++ $4.619 billion (...</td>\n",
       "      <td>7%</td>\n",
       "      <td>...</td>\n",
       "      <td>Mongolia</td>\n",
       "      <td>dust storms; grassland and forest fires; droug...</td>\n",
       "      <td>oil, coal, copper, molybdenum, tungsten, phosp...</td>\n",
       "      <td>20% (2011 est.)</td>\n",
       "      <td>21.6% (2014 est.)</td>\n",
       "      <td>3,031,330 (July 2016 est.)</td>\n",
       "      <td>Buddhist 53%, Muslim 3%, Christian 2.2%, Shama...</td>\n",
       "      <td>vast semidesert and desert plains, grassy step...</td>\n",
       "      <td>1,553,556 sq km</td>\n",
       "      <td>10,560 sq km</td>\n",
       "    </tr>\n",
       "    <tr>\n",
       "      <th>4</th>\n",
       "      <td>54.7% ++ arable land 11.3%; permanent crops 1....</td>\n",
       "      <td>world leader in gross value of agricultural ou...</td>\n",
       "      <td>extremely diverse; tropical in south to subarc...</td>\n",
       "      <td>14,500 km</td>\n",
       "      <td>lowest point: Turpan Pendi -154 m ++ highest p...</td>\n",
       "      <td>air pollution (greenhouse gases, sulfur dioxid...</td>\n",
       "      <td>US 18%, Hong Kong 14.6%, Japan 6%, South Korea...</td>\n",
       "      <td>electrical and other machinery, including data...</td>\n",
       "      <td>$2.011 trillion (2016 est.) ++ $2.143 trillion...</td>\n",
       "      <td>22.3%</td>\n",
       "      <td>...</td>\n",
       "      <td>China</td>\n",
       "      <td>frequent typhoons (about five per year along s...</td>\n",
       "      <td>coal, iron ore, petroleum, natural gas, mercur...</td>\n",
       "      <td>23% (2011 est.)</td>\n",
       "      <td>6.1%</td>\n",
       "      <td>1,373,541,278 (July 2016 est.)</td>\n",
       "      <td>Buddhist 18.2%, Christian 5.1%, Muslim 1.8%, f...</td>\n",
       "      <td>mostly mountains, high plateaus, deserts in we...</td>\n",
       "      <td>9,326,410 sq km</td>\n",
       "      <td>270,550 sq km</td>\n",
       "    </tr>\n",
       "  </tbody>\n",
       "</table>\n",
       "<p>5 rows × 35 columns</p>\n",
       "</div>"
      ],
      "text/plain": [
       "                           agricultural_land_percent  \\\n",
       "0  0% ++ arable land 0%; permanent crops 0%; perm...   \n",
       "1  18.1% ++ arable land 15.3%; permanent crops 2....   \n",
       "2  10.6% ++ arable land 6.2%; permanent crops 0.7...   \n",
       "3  73% ++ arable land 0.4%; permanent crops 0%; p...   \n",
       "4  54.7% ++ arable land 11.3%; permanent crops 1....   \n",
       "\n",
       "                                agriculture_products  \\\n",
       "0                                                NaN   \n",
       "1  rice, root crops, barley, vegetables, fruit; c...   \n",
       "2  sweet potatoes, vegetables, corn, coffee, suga...   \n",
       "3  wheat, barley, vegetables, forage crops; sheep...   \n",
       "4  world leader in gross value of agricultural ou...   \n",
       "\n",
       "                                             climate          coastline  \\\n",
       "0                                           tropical             518 km   \n",
       "1  temperate, with rainfall heavier in summer tha...           2,413 km   \n",
       "2  tropical monsoon; rainy season (May to Novembe...  0 km (landlocked)   \n",
       "3  desert; continental (large daily and seasonal ...  0 km (landlocked)   \n",
       "4  extremely diverse; tropical in south to subarc...          14,500 km   \n",
       "\n",
       "                                  elevation_extremes  \\\n",
       "0  lowest point: South China Sea 0 m ++ highest p...   \n",
       "1  lowest point: Sea of Japan 0 m ++ highest poin...   \n",
       "2  lowest point: Mekong River 70 m ++ highest poi...   \n",
       "3  lowest point: Hoh Nuur 560 m ++ highest point:...   \n",
       "4  lowest point: Turpan Pendi -154 m ++ highest p...   \n",
       "\n",
       "                                environmental_issues  \\\n",
       "0                                                 NA   \n",
       "1  air pollution in large cities; acid rain; wate...   \n",
       "2  unexploded ordnance; deforestation; soil erosi...   \n",
       "3  limited natural freshwater resources in some a...   \n",
       "4  air pollution (greenhouse gases, sulfur dioxid...   \n",
       "\n",
       "                                     export_partners  \\\n",
       "0                                                NaN   \n",
       "1  China 26%, US 13.3%, Hong Kong 5.8%, Vietnam 5...   \n",
       "2    Thailand 30.4%, China 27%, Vietnam 17.6% (2015)   \n",
       "3                   China 84%, Switzerland 9% (2015)   \n",
       "4  US 18%, Hong Kong 14.6%, Japan 6%, South Korea...   \n",
       "\n",
       "                                 exports_commodities  \\\n",
       "0                                                NaN   \n",
       "1  semiconductors, petrochemicals, automobile/aut...   \n",
       "2  wood products, coffee, electricity, tin, coppe...   \n",
       "3  copper, apparel, livestock, animal products, c...   \n",
       "4  electrical and other machinery, including data...   \n",
       "\n",
       "                                     exports_dollars forest_percent  \\\n",
       "0                                                NaN             0%   \n",
       "1  $509 billion (2016 est.) ++ $548.8 billion (20...          63.9%   \n",
       "2  $3.075 billion (2016 est.) ++ $2.928 billion (...          67.9%   \n",
       "3  $4.319 billion (2016 est.) ++ $4.619 billion (...             7%   \n",
       "4  $2.011 trillion (2016 est.) ++ $2.143 trillion...          22.3%   \n",
       "\n",
       "       ...                   name  \\\n",
       "0      ...        Paracel Islands   \n",
       "1      ...            South Korea   \n",
       "2      ...                   Laos   \n",
       "3      ...               Mongolia   \n",
       "4      ...                  China   \n",
       "\n",
       "                                     natural_hazards  \\\n",
       "0                                           typhoons   \n",
       "1  occasional typhoons bring high winds and flood...   \n",
       "2                                   floods, droughts   \n",
       "3  dust storms; grassland and forest fires; droug...   \n",
       "4  frequent typhoons (about five per year along s...   \n",
       "\n",
       "                                   natural_resources other_land_percent  \\\n",
       "0                                               none   100% (2011 est.)   \n",
       "1  coal, tungsten, graphite, molybdenum, lead, hy...    18% (2011 est.)   \n",
       "2   timber, hydropower, gypsum, tin, gold, gemstones  21.5% (2011 est.)   \n",
       "3  oil, coal, copper, molybdenum, tungsten, phosp...    20% (2011 est.)   \n",
       "4  coal, iron ore, petroleum, natural gas, mercur...    23% (2011 est.)   \n",
       "\n",
       "  percent_below_poverty                      population  \\\n",
       "0                   NaN       no indigenous inhabitants   \n",
       "1     14.6% (2013 est.)     50,924,172 (July 2016 est.)   \n",
       "2       22% (2013 est.)      7,019,073 (July 2016 est.)   \n",
       "3     21.6% (2014 est.)      3,031,330 (July 2016 est.)   \n",
       "4                  6.1%  1,373,541,278 (July 2016 est.)   \n",
       "\n",
       "                                           religions  \\\n",
       "0                                                NaN   \n",
       "1  Christian 31.6% (Protestant 24.0%, Catholic 7....   \n",
       "2  Buddhist 66.8%, Christian 1.5%, other 31%, uns...   \n",
       "3  Buddhist 53%, Muslim 3%, Christian 2.2%, Shama...   \n",
       "4  Buddhist 18.2%, Christian 5.1%, Muslim 1.8%, f...   \n",
       "\n",
       "                                             terrain       total_area  \\\n",
       "0                                mostly low and flat   ca. 7.75 sq km   \n",
       "1  mostly hills and mountains; wide coastal plain...     96,920 sq km   \n",
       "2  mostly rugged mountains; some plains and plateaus    230,800 sq km   \n",
       "3  vast semidesert and desert plains, grassy step...  1,553,556 sq km   \n",
       "4  mostly mountains, high plateaus, deserts in we...  9,326,410 sq km   \n",
       "\n",
       "      water_area  \n",
       "0        0 sq km  \n",
       "1    2,800 sq km  \n",
       "2    6,000 sq km  \n",
       "3   10,560 sq km  \n",
       "4  270,550 sq km  \n",
       "\n",
       "[5 rows x 35 columns]"
      ]
     },
     "execution_count": 295,
     "metadata": {},
     "output_type": "execute_result"
    }
   ],
   "source": [
    "world_facts.head(5)"
   ]
  },
  {
   "cell_type": "code",
   "execution_count": 296,
   "metadata": {},
   "outputs": [
    {
     "data": {
      "text/plain": [
       "Index(['agricultural_land_percent', 'agriculture_products', 'climate',\n",
       "       'coastline', 'elevation_extremes', 'environmental_issues',\n",
       "       'export_partners', 'exports_commodities', 'exports_dollars',\n",
       "       'forest_percent', 'gdp', 'gdp_agriculture_percent', 'gdp_growth',\n",
       "       'gdp_industry_percent', 'gdp_services_percent', 'government',\n",
       "       'import_partners', 'imports_commodities', 'imports_dollars',\n",
       "       'independence_date', 'industries', 'irrigated_land', 'land_boundaries',\n",
       "       'lat_long', 'mean_elevation_meters', 'name', 'natural_hazards',\n",
       "       'natural_resources', 'other_land_percent', 'percent_below_poverty',\n",
       "       'population', 'religions', 'terrain', 'total_area', 'water_area'],\n",
       "      dtype='object')"
      ]
     },
     "execution_count": 296,
     "metadata": {},
     "output_type": "execute_result"
    }
   ],
   "source": [
    "world_facts.columns"
   ]
  },
  {
   "cell_type": "code",
   "execution_count": 297,
   "metadata": {},
   "outputs": [],
   "source": [
    "world_facts.replace('NA', np.nan, inplace=True)"
   ]
  },
  {
   "cell_type": "code",
   "execution_count": 298,
   "metadata": {
    "collapsed": true
   },
   "outputs": [],
   "source": [
    "world_facts['agricultural_land_percent'] = world_facts['agricultural_land_percent'].astype(str)\n",
    "world_facts['agricultural_land_percent'] = world_facts['agricultural_land_percent'].apply(lambda x: x.split('% +')[0])\n",
    "world_facts['agricultural_land_percent'] = world_facts['agricultural_land_percent'].apply(lambda x:x.replace('%', ''))\n",
    "world_facts['agricultural_land_percent'] = world_facts['agricultural_land_percent'].astype(float)"
   ]
  },
  {
   "cell_type": "code",
   "execution_count": 299,
   "metadata": {},
   "outputs": [],
   "source": [
    "world_facts.rename(columns = {'coastline':'coastline_km'}, inplace = True)\n",
    "world_facts['coastline_km'] = world_facts['coastline_km'].astype(str)\n",
    "world_facts['coastline_km'] = world_facts['coastline_km'].apply(lambda x:x.replace(',', ''))\n",
    "world_facts['coastline_km'] = world_facts['coastline_km'].apply(lambda x: x.split(' km')[0])\n",
    "world_facts['coastline_km'] = world_facts['coastline_km'].astype(float)"
   ]
  },
  {
   "cell_type": "code",
   "execution_count": 300,
   "metadata": {},
   "outputs": [],
   "source": [
    "world_facts.drop('elevation_extremes', axis=1, inplace=True)"
   ]
  },
  {
   "cell_type": "code",
   "execution_count": 301,
   "metadata": {},
   "outputs": [
    {
     "data": {
      "text/plain": [
       "'water pollution; inadequate supplies of potable water; waterborne disease; deforestation; soil erosion and degradation'"
      ]
     },
     "execution_count": 301,
     "metadata": {},
     "output_type": "execute_result"
    }
   ],
   "source": [
    "world_facts.environmental_issues.values[13]"
   ]
  },
  {
   "cell_type": "code",
   "execution_count": 302,
   "metadata": {},
   "outputs": [],
   "source": [
    "world_facts['environmental_issues'] = world_facts['environmental_issues'].astype(str)\n",
    "world_facts['environmental_issues'] = [i if 'in urban areas, soil pollution of farmland' not in i else i + '; soil pollution' for i in world_facts['environmental_issues']] \n",
    "world_facts['environmental_issues'] = [i if 'air and water' not in i else i + '; air pollution; water pollution' for i in world_facts['environmental_issues']] "
   ]
  },
  {
   "cell_type": "code",
   "execution_count": 303,
   "metadata": {
    "collapsed": true
   },
   "outputs": [],
   "source": [
    "ei_series = list(world_facts['environmental_issues'].apply(lambda x:x.split('; ')).values)"
   ]
  },
  {
   "cell_type": "code",
   "execution_count": 309,
   "metadata": {},
   "outputs": [],
   "source": [
    "for series in ei_series:\n",
    "    for i in series:\n",
    "        if 'air and water' in i:\n",
    "            series.remove(i)"
   ]
  },
  {
   "cell_type": "code",
   "execution_count": 328,
   "metadata": {
    "collapsed": true
   },
   "outputs": [],
   "source": [
    "for series in ei_series:\n",
    "    for i in series:\n",
    "        if 'air pollution' in i:\n",
    "            series.remove(i)\n",
    "            series.append('air pollution')"
   ]
  },
  {
   "cell_type": "code",
   "execution_count": 336,
   "metadata": {
    "collapsed": true
   },
   "outputs": [],
   "source": [
    "for series in ei_series:\n",
    "    for i in series:\n",
    "        if 'water pollution' in i:\n",
    "            series.remove(i)\n",
    "            series.append('water pollution')"
   ]
  },
  {
   "cell_type": "code",
   "execution_count": 344,
   "metadata": {
    "collapsed": true
   },
   "outputs": [],
   "source": [
    "for series in ei_series:\n",
    "    for i in series:\n",
    "        if 'soil pollution' in i:\n",
    "            series.remove(i)\n",
    "            series.append('soil pollution')"
   ]
  },
  {
   "cell_type": "code",
   "execution_count": 353,
   "metadata": {
    "collapsed": true
   },
   "outputs": [],
   "source": [
    "for series in ei_series:\n",
    "    for i in series:\n",
    "        if 'industrial pollution' in i:\n",
    "            series.remove(i)\n",
    "            series.append('industrial pollution')"
   ]
  },
  {
   "cell_type": "code",
   "execution_count": null,
   "metadata": {
    "collapsed": true
   },
   "outputs": [],
   "source": [
    "for series in ei_series:\n",
    "    for i in series:\n",
    "        if 'industrial pollution' in i:\n",
    "            series.remove(i)\n",
    "            series.append('industrial pollution')"
   ]
  },
  {
   "cell_type": "code",
   "execution_count": null,
   "metadata": {
    "collapsed": true
   },
   "outputs": [],
   "source": [
    "for series in ei_series:\n",
    "    for i in series:\n",
    "        if 'industrial pollution' in i:\n",
    "            series.remove(i)\n",
    "            series.append('industrial pollution')"
   ]
  },
  {
   "cell_type": "code",
   "execution_count": 345,
   "metadata": {},
   "outputs": [
    {
     "data": {
      "text/plain": [
       "['acid rain', 'drift net fishing', 'air pollution', 'water pollution']"
      ]
     },
     "execution_count": 345,
     "metadata": {},
     "output_type": "execute_result"
    }
   ],
   "source": [
    "ei_series[1]"
   ]
  },
  {
   "cell_type": "code",
   "execution_count": 354,
   "metadata": {},
   "outputs": [],
   "source": [
    "ei_list = []\n",
    "for ei in ei_series:\n",
    "    ei_list += ei\n",
    "    "
   ]
  },
  {
   "cell_type": "code",
   "execution_count": 355,
   "metadata": {},
   "outputs": [],
   "source": [
    "ei_list = [ei for ei in ei_list if ei != 'nan']"
   ]
  },
  {
   "cell_type": "code",
   "execution_count": 356,
   "metadata": {},
   "outputs": [
    {
     "data": {
      "text/plain": [
       "809"
      ]
     },
     "execution_count": 356,
     "metadata": {},
     "output_type": "execute_result"
    }
   ],
   "source": [
    "len(ei_list)"
   ]
  },
  {
   "cell_type": "code",
   "execution_count": 357,
   "metadata": {},
   "outputs": [],
   "source": [
    "for ei in ei_list:\n",
    "    if 'air and water' in ei:\n",
    "        print(ei)"
   ]
  },
  {
   "cell_type": "code",
   "execution_count": 358,
   "metadata": {
    "collapsed": true
   },
   "outputs": [],
   "source": [
    "ei_df = pd.DataFrame({'ei':ei_list})"
   ]
  },
  {
   "cell_type": "code",
   "execution_count": 361,
   "metadata": {},
   "outputs": [
    {
     "data": {
      "text/plain": [
       "417"
      ]
     },
     "execution_count": 361,
     "metadata": {},
     "output_type": "execute_result"
    }
   ],
   "source": [
    "ei_df['ei'].nunique()"
   ]
  },
  {
   "cell_type": "code",
   "execution_count": 360,
   "metadata": {},
   "outputs": [
    {
     "name": "stdout",
     "output_type": "stream",
     "text": [
      "['acid rain', 'drift net fishing', 'air pollution', 'water pollution', 'unexploded ordnance', 'deforestation', 'soil erosion', 'most of the population does not have access to potable water', 'limited natural freshwater resources in some areas', 'the policies of former Communist regimes promoted rapid urbanization and industrial growth that had negative effects on the environment', 'the burning of soft coal in power plants and the lack of enforcement of environmental laws severely polluted the air in Ulaanbaatar', 'deforestation, overgrazing, and the converting of virgin land to agricultural production increased soil erosion from wind and rain', 'desertification and mining activities had a deleterious effect on the environment', \"China is the world's largest single emitter of carbon dioxide from the burning of fossil fuels\", 'water shortages, particularly in the north', 'deforestation', 'estimated loss of one-fifth of agricultural land since 1949 to soil erosion and economic development', 'desertification', 'trade in endangered species', 'air pollution', 'water pollution', 'acidification of lakes and reservoirs degrading water quality and threatening aquatic life', 'Japan is one of the largest consumers of fish and tropical timber, contributing to the depletion of these resources in Asia and elsewhere', 'following the 2011 Fukushima nuclear disaster, Japan originally planned to phase out nuclear power, but it has now implemented a new policy of seeking to restart nuclear power plants that meet strict new safety standards', 'air pollution', 'widespread use of slash and burn agriculture has led to deforestation and soil erosion', 'logging and slash-and-burn agricultural practices contribute to deforestation and soil degradation', 'groundwater contamination limits potable water supply', 'growing urban industrialization and population migration are rapidly degrading environment in Hanoi and Ho Chi Minh City', 'water pollution', 'illegal logging activities throughout the country and strip mining for gems in the western region along the border with Thailand have resulted in habitat loss and declining biodiversity (in particular, destruction of mangrove swamps threatens natural fisheries)', 'soil erosion', 'in rural areas, most of the population does not have access to potable water', 'declining fish stocks because of illegal fishing and overfishing', 'air pollution', 'water pollution', 'deforestation', 'smoke/haze from Indonesian forest fires', 'air pollution', 'water pollution', 'inadequate supplies of potable water', 'waterborne disease', 'deforestation', 'soil erosion and degradation', 'water pollution', 'contamination of drinking water supplies', 'trade in endangered species', 'low-level radioactive waste disposal', 'air pollution', 'water pollution', 'limited natural freshwater resources', 'limited land availability presents waste disposal problems', 'seasonal smoke/haze resulting from forest fires in Indonesia', 'industrial pollution', 'deforestation', 'smoke and haze from forest fires', 'air pollution', 'water pollution', 'deforestation', 'soil erosion', 'wildlife populations threatened by illegal hunting', 'air pollution', 'water pollution', 'uncontrolled deforestation especially in watershed areas', 'soil erosion', 'coral reef degradation', 'increasing pollution of coastal mangrove swamps that are important fish breeding grounds', 'air pollution', 'water pollution', 'seasonal smoke/haze resulting from forest fires in Indonesia', 'deforestation', 'inadequate sanitation and water treatment contribute to disease', 'industrial pollution', 'rain forest subject to deforestation as a result of growing commercial demand for tropical timber', 'pollution from mining projects', 'severe drought', 'water pollution', 'air pollution', 'water pollution', 'see individual country entries', 'water pollution', 'limited natural freshwater resources: large concrete or natural rock water catchments collect rainwater (no longer used for drinking water) and adequate desalination plant', \"southern part of the country contaminated with fallout from 1986 nuclear reactor accident at Chornobyl' in northern Ukraine\", 'soil pollution', 'acid rain', 'air pollution', 'water pollution', 'air pollution', 'water pollution', 'soil pollution', 'urbanization decreasing rural farmlands', 'air pollution', 'pollution of coastal waters from sewage outlets, especially in tourist-related areas such as Kotor', 'limited natural freshwater resources', 'increasing reliance on desalination', 'decreased emphasis on heavy industry and increased environmental concern by post-communist governments has improved environment', 'air pollution', 'water pollution', 'continues to reduce greenhouse gas emissions', 'by 2005 the government reduced the amount of industrial and commercial waste disposed of in landfill sites to 85% of 1998 levels and recycled or composted at least 25% of household waste, increasing to 33% by 2015', \"Latvia's environment has benefited from a shift to service industries after the country regained independence\", 'air pollution', 'habitat loss threatens wildlife populations', 'air pollution', 'water pollution', 'deforestation', 'overgrazing of mountain meadows contributes to soil erosion', 'wastewater treatment and solid waste disposal', 'air pollution', 'acid rain damaging forests', 'efforts to bring industry up to EU code should improve domestic pollution', 'air pollution', 'water pollution', 'waste disposal (both household and industrial)', 'air pollution', 'intense pressures from human activities: urbanization, dense transportation network, industry, extensive animal breeding and crop cultivation', 'air pollution', 'water pollution', 'air polluted with sulfur dioxide from oil-shale burning power plants in northeast', 'however, the amounts of pollutants emitted to the air have fallen dramatically', 'the pollution load of wastewater at purification plants has decreased substantially', 'Estonia has more than 1,400 natural and manmade lakes, the smaller of which in agricultural areas need to be monitored', 'coastal seawater is polluted in certain locations', 'coastal and inland rivers polluted from industrial and agricultural effluents', 'acid rain damaging lakes', 'inadequate industrial waste treatment and disposal facilities', 'air pollution', 'coastal pollution from industrial and domestic waste', 'landmine removal and reconstruction of infrastructure consequent to 1992-95 civil strife', 'air pollution', 'soil pollution results from the use of agricultural chemicals', 'air pollution', 'soil pollution', 'acid rain, resulting from sulfur dioxide emissions, is damaging forests', 'pollution in the Baltic Sea from raw sewage and industrial effluents from rivers in eastern Germany', 'hazardous waste disposal', 'government established a mechanism for ending the use of nuclear power by 2022', \"government working to meet EU commitment to identify nature preservation areas in line with the EU's Flora, Fauna, and Habitat directive\", 'air pollution', \"water resource problems (no natural reservoir catchments, seasonal disparity in rainfall, sea water intrusion to island's largest aquifer, increased salination in the north)\", 'coastal degradation', 'loss of wildlife habitats from urbanization', 'water pollution', 'inadequate supplies of potable water', 'deforestation', \"radiation contamination in the northeast from 1986 accident at Chornobyl' Nuclear Power Plant\", 'air pollution', 'water pollution', 'deforestation', 'soil erosion', 'water pollution', 'some forest damage from acid rain', 'air pollution', 'water pollution', 'contamination of soil and groundwater with petroleum products and chemicals at military bases', 'soil erosion and degradation', 'contamination of Danube delta wetlands', 'air pollution', 'water pollution', 'hunting around the salt lake', 'note - breeding place for loggerhead and green turtles', 'only remaining colony of griffon vultures is on the base', 'Sava River polluted with domestic and industrial waste', 'pollution of coastal waters with heavy metals and toxic chemicals', 'air pollution', 'pollution of the Mediterranean Sea from raw sewage and effluents from the offshore production of oil and gas', 'water quality and quantity nationwide', 'deforestation', 'desertification', 'air pollution', 'soil erosion', 'air pollution', 'water pollution', 'sites for disposing of urban waste are limited', 'water shortages and destruction of infrastructure because of the 1992-95 civil strife', 'deforestation', 'air pollution', 'inadequate wastewater treatment', 'water pollution', 'netting and trapping of small migrant songbirds in the spring and autumn', 'acid rain damaging forests', 'air pollution', 'air pollution', 'water pollution', 'rivers polluted from raw sewage, heavy metals, detergents', 'deforestation', 'soil contamination from heavy metals from metallurgical plants and industrial wastes', 'air pollution', 'air pollution', 'acid rain damaging forests and adversely affecting lakes, threatening fish stocks', 'air pollution', 'water pollution', 'acid rain damage to soils and lakes', 'pollution of the North Sea and the Baltic Sea', 'nitrogen and phosphorus pollution of the North Sea', 'drinking and surface water becoming polluted from animal wastes and pesticides', 'air pollution', 'heavy use of agricultural chemicals, including banned pesticides such as DDT, has contaminated soil and groundwater', 'extensive soil erosion from poor farming methods', 'acid rain', 'loss of biodiversity', 'air pollution', 'water pollution', 'air pollution', 'water pollution', 'deforestation', 'overgrazing', 'soil erosion', 'desertification', 'inadequate potable water', 'water pollution', 'limited arable land and natural freshwater resources pose serious constraints', 'desertification', 'air pollution', 'water pollution', 'desertification', 'depletion of underground water resources', 'the lack of perennial rivers or permanent water bodies has prompted the development of extensive seawater desalination facilities', 'coastal pollution from oil spills', 'deforestation', 'overgrazing', 'desertification', 'oil pollution in the Persian Gulf', 'wetland losses from drought', 'soil degradation (salination)', 'inadequate supplies of potable water', 'urbanization', 'air pollution', 'water pollution', 'lack of natural freshwater resources compensated by desalination plants', 'desertification', 'beach pollution from oil spills', 'limited natural freshwater resources are increasing dependence on large-scale desalination facilities', 'desertification', 'salination of fresh water', 'sewage treatment', 'water-borne disease', 'soil degradation', 'depletion and contamination of underground water resources', 'limited natural freshwater resources', \"some of world's largest and most sophisticated desalination facilities provide much of the water\", 'desertification', 'air pollution', 'water pollution', 'deforestation', 'concern for oil spills from increasing Bosporus ship traffic', 'air pollution', 'water pollution', 'rising soil salinity', 'beach pollution from oil spills', 'limited natural freshwater resources', 'adequacy of freshwater supply', 'sewage treatment', 'deforestation', 'soil erosion', 'desertification', 'pollution of coastal waters from raw sewage and oil spills', 'air pollution', 'the energy crisis of the 1990s led to deforestation when citizens scavenged for firewood', 'pollution of Hrazdan (Razdan) and Aras Rivers', 'the draining of Sevana Lich (Lake Sevan), a result of its use as a source for hydropower, threatens drinking water supplies', 'restart of Metsamor nuclear power plant in spite of its location in a seismically active zone', 'soil pollution', 'government water control projects drained most of the inhabited marsh areas east of An Nasiriyah by drying up or diverting the feeder streams and rivers', 'a once sizable population of Marsh Arabs, who inhabited these areas for thousands of years, has been displaced', \"furthermore, the destruction of the natural habitat poses serious threats to the area's wildlife populations\", 'inadequate supplies of potable water', 'development of the Tigris and Euphrates rivers system contingent upon agreements with upstream riparian Turkey', 'soil degradation (salination) and erosion', 'desertification', 'air pollution', 'water pollution', 'heavy pollution of Mtkvari River and the Black Sea', 'inadequate supplies of potable water', 'air pollution', 'soil pollution', 'water pollution', 'soil pollution', 'limited natural freshwater resources', 'deforestation', 'overgrazing', 'soil erosion', 'desertification', 'limited natural freshwater resources', 'inadequate supplies of potable water', 'overgrazing', 'soil erosion', 'desertification', 'desertification resulting from the degradation of limited arable land, periods of drought, and dust storms', 'coastal degradation (damage to coastlines, coral reefs, and sea vegetation) resulting from oil spills and other discharges from large tankers, oil refineries, and distribution stations', 'lack of freshwater resources (groundwater and seawater are the only sources for all water needs)', 'scarcity of hazardous waste disposal facilities', 'rural to urban migration', 'natural freshwater resources scarce and polluted in north, inaccessible and poor quality in center and extreme southeast', 'raw sewage and industrial effluents polluting rivers in urban areas', 'deforestation', 'widespread erosion', 'desertification', 'deteriorating agricultural lands', 'land subsidence in Valley of Mexico caused by groundwater depletion', 'air pollution', 'water pollution', 'sustainable development', 'large emitter of carbon dioxide from the burning of fossil fuels', 'limited natural freshwater resources in much of the western part of the country require careful management', 'desertification', 'air pollution', 'water pollution', 'metal smelting, coal-burning utilities, and vehicle emissions impacting on agricultural and forest productivity', 'ocean waters becoming contaminated due to agricultural, industrial, mining, and forestry activities', 'air pollution', 'protection of the arctic environment', 'preservation of the Inuit traditional way of life, including whaling and seal hunting', 'recent test drilling for oil in waters around Saint Pierre and Miquelon may bring future development that would impact the environment', 'inadequate supplies of potable water', 'desertification', 'water pollution', 'rapid population growth pressuring the environment', 'overharvesting of timber, expansion of cattle grazing, and slash-and-burn agriculture have resulted in deforestation and soil exhaustion', 'civil war depleted natural resources', 'overfishing', 'inadequate supplies of potable water', 'wildlife populations threatened by excessive hunting', 'soil erosion', 'desertification', 'periodic drought', 'overgrazing, deforestation, and soil erosion aggravated by drought are contributing to desertification', 'limited natural freshwater resources away from the Senegal, which is the only perennial river', 'locust infestation', 'population pressure forcing settlement in marginal areas results in overgrazing, severe soil erosion, and soil exhaustion', 'desertification', 'Highlands Water Project controls, stores, and redirects water to South Africa', 'inadequate supplies of potable water', 'poaching threatens wildlife populations', 'deforestation', 'desertification', 'limited natural freshwater resources', 'desertification', 'wildlife poaching', 'land degradation has led to few conservation areas', 'recurrent drought in north severely affects agricultural activities', 'deforestation', 'overgrazing', 'soil erosion', 'poaching and habitat destruction threatens wildlife populations', 'inadequate supplies of potable water', 'water pollution', 'toxic and hazardous waste disposal is ineffective and poses health risks', 'limited natural freshwater resources', 'deforestation', 'overgrazing', 'soil erosion', 'desertification', 'water pollution', 'overgrazing', 'desertification', 'limited freshwater resources', 'desertification', 'limited natural freshwater resources', 'the Great Manmade River Project, the largest water development scheme in the world, brings water from large aquifers under the Sahara to coastal cities', 'deforestation', 'soil erosion', 'land degradation', 'the black rhinoceros herd - once the largest concentration of the species in the world - has been significantly reduced by poaching', 'poor mining practices have led to toxic waste and heavy metal pollution', 'air pollution', 'water pollution', 'lack of important arterial rivers or lakes requires extensive water conservation and control measures', 'growth in water usage outpacing supply', 'pollution of rivers from agricultural runoff and urban discharge', 'soil erosion', 'desertification', 'air pollution', 'soil erosion results from deforestation and overgrazing', 'desertification', 'surface water contaminated with raw sewage and other organic wastes', 'several endangered species of flora and fauna unique to the island', 'soil degradation and erosion results from crop cultivation on slopes without proper terracing', 'deforestation', 'overgrazing', 'soil erosion', 'deforestation', 'desertification', 'wildlife populations (such as elephant, hippopotamus, giraffe, and lion) threatened because of poaching and habitat destruction', 'deforestation', 'inadequate potable water', 'desertification', 'soil contamination and erosion', 'overfishing, overpopulation in forest region', 'poor mining practices have led to environmental damage', 'draining of wetlands for agricultural use', 'deforestation', 'overgrazing', 'soil erosion', 'water hyacinth infestation in Lake Victoria', 'widespread poaching', 'deforestation', 'soil erosion', 'overgrazing', 'overfishing', 'deforestation', 'soil erosion', 'desertification', 'inadequate supplies of potable water', 'poaching', 'deforestation', 'poaching', 'overuse of pastures and subsequent soil erosion attributable to population pressures', 'desertification', 'deforestation of tropical rain forest, in response to both international demand for tropical timber and to domestic use as fuel, resulting in loss of biodiversity', 'inadequate supplies of potable water', 'water pollution', 'soil erosion', 'deforestation due to demand for firewood', 'water shortages', 'desertification', 'environmental damage has threatened several species of birds and reptiles', 'illegal beach sand extraction', 'overfishing', 'wildlife populations threatened by poaching', 'deforestation', 'overgrazing', 'soil erosion', 'desertification', 'overfishing', 'soil degradation', 'deforestation', 'desertification', 'destruction of coral reefs threatens marine habitats', 'recent droughts affected marginal agriculture', 'wildlife threatened by illegal hunting and trade, especially for ivory', 'deforestation', 'overgrazing', 'soil erosion', 'desertification', 'water shortages in some areas from water-intensive farming and poor management', 'soil degradation', 'rapid deforestation', 'desertification', 'oil pollution - water, air, and soil', 'has suffered serious damage from oil spills', 'loss of arable land', 'rapid urbanization', 'air pollution', 'water pollution', 'deforestation results from uncontrolled cutting of trees for fuel', 'overgrazing', 'soil exhaustion', 'soil erosion', 'widespread poaching', 'deforestation attributable to slash-and-burn agriculture and the use of wood for fuel', 'air pollution', 'water pollution', 'land degradation/desertification (soil erosion resulting from farming of marginal areas, overgrazing, destruction of vegetation)', 'water supplies contaminated by raw sewage', 'siltation of reservoirs', 'oil pollution of coastal waters', 'sparse water and lack of arable land', 'deforestation', 'desertification', 'water-borne diseases prevalent', 'tropical rain forest deforestation', 'soil erosion', 'loss of biodiversity', 'pollution of coastal waters from oil residue and raw sewage', 'increased migration of the population to urban and coastal areas with adverse environmental consequences', 'desertification', 'pollution of surface and coastal waters', 'elephant poaching for ivory is a problem', 'inadequate supplies of potable water', 'limited arable land', 'desertification', 'endangered species', 'tap water is not potable', \"poaching has diminished the country's reputation as one of the last great wildlife refuges\", 'desertification', 'deforestation', 'chemical runoff into watersheds', 'poaching seriously threatens rhinoceros, elephant, antelope, and large cat populations', 'deforestation', 'soil erosion', 'desertification', 'lack of adequate water treatment presents human health risks', 'air pollution', \"deforestation (most of the country's forests - once the largest in West Africa - have been heavily logged)\", 'water pollution', 'water supply depends on catchments to collect rainwater', 'waterborne diseases are prevalent', 'deforestation', 'overgrazing', 'desertification', 'poaching', 'overfishing', 'tap water is not potable', 'deforestation', 'air pollution', 'water pollution', 'deforestation', 'land degradation', 'siltation of spawning grounds endangers fish populations', 'water pollution', 'deforestation', 'soil erosion and exhaustion', 'recent droughts and desertification severely affecting agricultural activities, population distribution, and the economy', 'overgrazing', 'soil degradation', 'deforestation', 'limited supplies of potable water', 'wildlife populations being depleted because of excessive hunting', 'overgrazing', 'soil degradation', 'soil erosion', 'tap water is non-potable', 'deforestation', 'deforestation', 'desertification', 'soil erosion', 'overgrazing', 'loss of infrastructure from civil warfare', 'agricultural land being lost to urbanization and windblown sands', 'increasing soil salination below Aswan High Dam', 'desertification', 'oil pollution threatening coral reefs, beaches, and marine habitats', 'limited natural freshwater resources away from the Nile, which is the only perennial water source', 'rapid growth in population overstraining the Nile and natural resources', 'water pollution', 'soil erosion as a result of overgrazing and the expansion of agriculture into marginal lands', 'deforestation (little forested land remains because of uncontrolled cutting of trees for fuel)', 'habitat loss threatens wildlife populations', 'water pollution', 'soil erosion from overgrazing and other poor farming practices', 'desertification', 'dumping of raw sewage, petroleum refining wastes, and other industrial effluents is leading to the pollution of rivers and coastal waters', 'Mediterranean Sea, in particular, becoming polluted from oil wastes, soil erosion, and fertilizer runoff', 'inadequate supplies of potable water', 'degradation of water quality from increased use of pesticides and fertilizers', 'water hyacinth infestation in Lake Victoria', 'deforestation', 'soil erosion', 'desertification', 'poaching', 'water pollution', 'poaching threatens wildlife populations', 'deforestation', 'refugees responsible for significant deforestation, soil erosion, and wildlife poaching', 'mining of minerals (coltan - a mineral used in creating capacitors, diamonds, and gold) causing environmental damage', 'water pollution', 'famine', 'use of contaminated water contributes to human health problems', 'deforestation', 'overgrazing', 'soil erosion', 'desertification', \"the discovery of a large Antarctic ozone hole in the earth's stratosphere (the ozone layer) - first announced in 1985 - spurred the signing of the Montreal Protocol in 1987, an international agreement phasing out the use of ozone-depleting chemicals\", \"the ozone layer prevents most harmful wavelengths of ultra-violet (UV) light from passing through the earth's atmosphere\", 'ozone depletion has been shown to harm a variety of Antarctic marine plants and animals (plankton)', 'in 2002, significant areas of ice shelves disintegrated in response to regional warming', 'in 2016, a very gradual trend toward \"healing\" of the ozone hole was reported', 'introduction of foreign species on Iles Crozet has caused severe damage to the original ecosystem', 'overfishing of Patagonian toothfish around Iles Crozet and Iles Kerguelen', 'widespread deforestation and mining threaten natural resources', 'air pollution', 'water pollution', 'inadequate solid/hazardous waste disposal', 'water pollution', 'reindeer - introduced to the islands on several occasions in the 20th century - devastated the native flora and bird species', 'some reindeer were translocated to the Falkland Islands in 2001, the rest were exterminated (2013-14)', 'deforestation', 'soil erosion', 'desertification', 'pollution from oil production wastes in ecologically sensitive areas of the Amazon Basin and Galapagos Islands', 'water pollution', 'deforestation as timber is cut for export', 'pollution of inland waterways by small-scale mining activities', 'deforestation', 'inadequate means for waste disposal pose health risks for many urban residents', 'loss of wetlands', 'water pollution', 'deforestation', 'soil and water quality damage from overuse of pesticides', 'air pollution', 'overfishing by unlicensed vessels is a problem', \"reindeer - introduced to the islands in 2001 from South Georgia - are part of a farming effort to produce specialty meat and diversify the islands' economy\", 'this is the only commercial reindeer herd in the world unaffected by the 1986 Chornobyl disaster', 'deforestation in Amazon Basin destroys the habitat and endangers a multitude of plant and animal species indigenous to the area', 'there is a lucrative illegal wildlife trade', 'wetland degradation', 'severe oil spills', 'air pollution', 'water pollution', 'water pollution', 'deforestation', 'water pollution', 'sewage pollution of Lago de Valencia', 'oil and urban pollution of Lago de Maracaibo', 'deforestation', 'soil degradation', 'threat to the rainforest ecosystem from irresponsible mining operations', 'industrial pollution', 'the clearing of land for agricultural purposes and the international demand for tropical timber are contributing to deforestation', 'soil erosion from overgrazing and poor cultivation methods (including slash-and-burn agriculture)', 'desertification', 'loss of biodiversity', 'industrial pollution', 'air pollution', 'deforestation (some the result of illegal logging)', 'overgrazing of the slopes of the costa and sierra leading to soil erosion', 'desertification', 'pollution of rivers and coastal waters from municipal and mining wastes', 'air pollution', 'contamination of groundwater on Saipan may contribute to disease', 'clean-up of landfill', 'protection of endangered species conflicts with development', 'inadequate facilities for disposal of solid waste', 'threats to the marine ecosystem from sand and coral dredging, illegal fishing practices, and overfishing', 'limited natural freshwater resources', 'the water division of the government has spent substantial funds in the past few years to improve water catchments and pipelines', 'heavy pollution in lagoon of south Tarawa atoll due to heavy migration mixed with traditional practices such as lagoon latrines and open-pit dumping', 'ground water at risk', 'extirpation of native bird population by the rapid proliferation of the brown tree snake, an exotic, invasive species', 'limited natural freshwater resources, roof storage tanks collect rainwater but mostly dependent on a single, aging desalination plant', 'a century of intensive phosphate mining beginning in 1906 - mainly by a UK, Australia, and NZ consortium - left the central 90% of Nauru a wasteland and threatens limited remaining land resources', 'loss of rainforest', 'impact of phosphate mining', 'inadequate supplies of potable water', 'pollution of Majuro lagoon from household waste and discharges from fishing vessels', 'deforestation', 'soil erosion', 'many of the surrounding coral reefs are dead or dying', 'deforestation (only small portions of the original forests remain) largely as a result of the continued use of wood as the main fuel source', 'as a consequence of cutting down the forests, the mountainous terrain of Futuna is particularly prone to erosion', 'there are no permanent settlements on Alofi because of the lack of natural freshwater resources', 'soil erosion, deforestation, invasive species, overfishing', 'limited natural resources and overcrowding are contributing to emigration to New Zealand', 'since there are no streams or rivers and groundwater is not potable, most water needs must be met by catchment systems with storage facilities', 'beachhead erosion because of the use of sand for building materials', 'excessive clearance of forest undergrowth for use as fuel', 'damage to coral reefs from increasing ocean temperatures and acidification', \"Tuvalu is concerned about global increases in greenhouse gas emissions and their effect on rising sea levels, which threaten the country's underground water table\", 'in 2000, the government appealed to Australia and New Zealand to take in Tuvaluans if rising sea levels should make evacuation necessary', 'increasing attention to conservationist practices to counter loss of soil fertility from traditional slash and burn agriculture', 'deforestation (only a small portion of the original forest remains because of burning and clearing for settlement)', 'deforestation results as more and more land is being cleared for agriculture and settlement', 'some damage to coral reefs from starfish and indiscriminate coral and shell collectors', 'overhunting threatens native sea turtle populations', 'most of the population does not have access to a reliable supply of potable water', 'deforestation', 'deforestation', 'soil erosion', 'illegal killing of protected wildlife by traditional Indonesian fisherman, as well as fishing by non-traditional Indonesian vessels, are ongoing problems', 'erosion caused by mining exploitation and forest fires', 'soil erosion from overgrazing, industrial development, urbanization, and poor farming practices', 'soil salinity rising due to the use of poor quality water', 'desertification', 'clearing for agricultural purposes threatens the natural habitat of many unique animal and plant species', 'the Great Barrier Reef off the northeast coast, the largest coral reef in the world, is threatened by increased shipping and its popularity as a tourist site', 'limited natural freshwater resources', 'overfishing, climate change, pollution', 'deforestation', 'soil erosion', 'native flora and fauna hard-hit by invasive species', 'freshwater resources are limited to rainwater accumulations in natural underground reservoirs', 'no permanent freshwater resources', 'limited natural freshwater resources', 'most of the population does not have access to potable water', 'deforestation', 'soil erosion', 'desertification', 'water pollution', 'deforestation', 'soil erosion', 'wildlife populations threatened by poaching and urbanization', 'coastal degradation from mining activities and increased pollution', 'freshwater resources being polluted by industrial wastes and sewage runoff', 'waste disposal', 'air pollution', 'depletion of freshwater aquifers threatens water supplies', 'coral reef bleaching', 'deforestation', 'soil erosion', 'overgrazing', 'desertification', 'tap water is not potable throughout the country', 'huge and growing population is overstraining natural resources', 'air pollution', 'water pollution', 'deforestation (overuse of wood for fuel and lack of alternatives)', 'contaminated water (with human and animal wastes, agricultural runoff, and industrial effluents)', 'wildlife conservation', 'vehicular emissions', 'many people are landless and forced to live on and cultivate flood-prone land', 'waterborne diseases prevalent in surface water', 'ground water contaminated by naturally occurring arsenic', 'intermittent water shortages because of falling water tables in the northern and central parts of the country', 'soil degradation and erosion', 'deforestation', 'severe overpopulation', 'water pollution', 'limited natural freshwater resources', 'inadequate supplies of potable water', 'soil degradation', 'overgrazing', 'deforestation (much of the remaining forests are being cut down for fuel and building materials)', 'desertification', 'air pollution', 'water pollution', 'soil erosion', 'limited access to potable water', 'pollution of coastal waters from waste disposal by ships', 'soil erosion', 'illegal solid waste disposal threatens contamination of aquifers', 'limited natural freshwater resources, private cisterns collect rainwater', 'extensive deforestation (much of the remaining forested land is being cleared for agriculture and used as fuel)', 'soil erosion', 'inadequate supplies of potable water', 'deforestation', 'soil erosion, particularly in the northern region', 'heavy rates of deforestation', 'coastal waters polluted by industrial waste, sewage, and oil spills', 'damage to coral reefs', 'air pollution', 'deforestation', 'soil erosion', 'water pollution', 'deforestation', 'solid and sewage waste disposal', 'water pollution', 'supplies of potable water sometimes cannot meet increasing demand largely because of poor distribution system', 'deforestation of tropical rain forest', 'land degradation and soil erosion threatens siltation of Panama Canal', 'mining threatens natural resources', 'air pollution', 'water pollution', 'water management - a major concern because of limited natural freshwater resources - is further hampered by the clearing of trees to increase crop production, causing rainfall to run off quickly', 'water shortages', 'soil eroding into the sea damages coral reefs', 'deforestation', 'pollution of coastal waters and shorelines from discharges by pleasure yachts and other effluents', 'in some areas, pollution is severe enough to make swimming prohibitive', 'freshwater supply is dependent on desalination of sea water', 'coral reef decay', 'solid waste disposal', 'deforestation in the Peten rainforest', 'soil erosion', 'water pollution', 'biodiversity loss', 'deforestation', 'air pollution', 'water pollution', 'with no natural rivers or streams, fresh water is in short supply, especially in summer, and provided by desalination of sea water, collection of rain water, or imported via water tanker', 'limited natural freshwater resources except for a few seasonal streams and springs on Tortola', \"most of the islands' water supply comes from desalination plants\", 'deforestation and land use change, largely a result of the clearing of land for cattle ranching and agriculture', 'soil erosion', 'coastal marine pollution', 'fisheries protection', 'solid waste management', 'air pollution', 'no natural freshwater resources', 'drinking water supplies are met by reverse osmosis desalination plants', 'soil erosion', 'occasional drought causing water shortages', 'lack of natural freshwater resources', 'deforestation', 'soil erosion', 'contamination of soils from disposal of toxic wastes', 'water pollution', 'oil pollution of beaches', 'deforestation', 'soil erosion', 'water pollution', 'urban population expanding', 'deforestation results from logging and the clearing of land for agricultural purposes', 'further land degradation and soil erosion hastened by uncontrolled development and improper land use practices such as farming of marginal lands', \"mining activities polluting Lago de Yojoa (the country's largest source of fresh water), as well as several rivers and streams, with heavy metals\", 'land erosion occurs on slopes that have been cleared for cultivation', 'industrial, municipal, and agricultural pollution of inland waterways and seacoasts', 'deforestation', 'soil erosion', 'soil contamination from improper application of agricultural chemicals', 'scattered areas of sometimes intense radioactive contamination', 'groundwater contamination from toxic waste', 'urban solid waste management', 'abandoned stocks of obsolete pesticides', 'air pollution', 'many people get their water directly from contaminated streams and wells', 'as a result, water-borne diseases are prevalent', 'increasing soil salinity from faulty irrigation practices', 'water pollution', 'contamination of soil and groundwater with agricultural chemicals, pesticides', 'salination, water logging of soil due to poor irrigation methods', 'Caspian Sea pollution', \"diversion of a large share of the flow of the Amu Darya into irrigation contributes to that river's inability to replenish the Aral Sea\", 'desertification', 'radioactive or toxic chemical sites associated with former defense industries and test ranges scattered throughout the country pose health risks for humans and animals', 'because the two main rivers that flowed into the Aral Sea have been diverted for irrigation, it is drying up and leaving behind a harmful layer of chemical pesticides and natural salts', 'these substances are then picked up by the wind and blown into noxious dust storms', 'pollution in the Caspian Sea', 'soil pollution', 'industrial pollution', 'shrinkage of the Aral Sea has resulted in growing concentrations of chemical pesticides and natural salts', 'these substances are then blown from the increasingly exposed lake bed and contribute to desertification and respiratory health problems', 'increasing soil salination', 'soil contamination from buried nuclear processing and agricultural chemicals, including DDT', 'water pollution', 'inadequate sanitation facilities', 'increasing levels of soil salinity', 'excessive pesticides', 'industrial pollution']\n"
     ]
    }
   ],
   "source": [
    "print(ei_list)"
   ]
  },
  {
   "cell_type": "code",
   "execution_count": null,
   "metadata": {
    "collapsed": true
   },
   "outputs": [],
   "source": []
  }
 ],
 "metadata": {
  "kernelspec": {
   "display_name": "Python [default]",
   "language": "python",
   "name": "python3"
  },
  "language_info": {
   "codemirror_mode": {
    "name": "ipython",
    "version": 3
   },
   "file_extension": ".py",
   "mimetype": "text/x-python",
   "name": "python",
   "nbconvert_exporter": "python",
   "pygments_lexer": "ipython3",
   "version": "3.6.4"
  }
 },
 "nbformat": 4,
 "nbformat_minor": 2
}
